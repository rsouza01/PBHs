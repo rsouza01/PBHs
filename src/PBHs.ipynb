{
 "cells": [
  {
   "cell_type": "code",
   "execution_count": 15,
   "id": "38d5e978-2912-43c4-93c3-5107ba16ae88",
   "metadata": {},
   "outputs": [],
   "source": [
    "import math\n",
    "import pandas as pd\n",
    "import numpy as np\n",
    "import pbhs as pbhs"
   ]
  },
  {
   "cell_type": "markdown",
   "id": "cb145549-3ada-4568-9136-7cc2d97ecdfe",
   "metadata": {},
   "source": [
    "# PBHs\n",
    "\n",
    "## Quantum evaporation and absorption of energy\n",
    "\n",
    "Black holes emit thermal radiation at a temperature inversely proportional to their mass. Numerically, this effect is given by\n",
    "\n",
    "\\begin{equation}\n",
    "T_{bh}=\\frac{\\hbar{c}^{3}}{8\\pi{k_{B}G}M}\\simeq \\frac{6.2\\times{10}^{-8}K}{(M/M_{\\odot})}\n",
    "\\end{equation}\n",
    "\n",
    "\n"
   ]
  },
  {
   "cell_type": "code",
   "execution_count": 16,
   "id": "e2d6849d-4628-435d-b54f-55d9acf039e5",
   "metadata": {},
   "outputs": [
    {
     "name": "stdout",
     "output_type": "stream",
     "text": [
      "    Mass (M_solar) from import     Mass (kg)  Hawking Temperature (K)\n",
      "0                            1  1.988470e+30             6.200000e-08\n",
      "1                            2  3.976940e+30             3.100000e-08\n",
      "2                            3  5.965410e+30             2.066667e-08\n",
      "3                            4  7.953880e+30             1.550000e-08\n",
      "4                            5  9.942350e+30             1.240000e-08\n",
      "..                         ...           ...                      ...\n",
      "95                          96  1.908931e+32             6.458333e-10\n",
      "96                          97  1.928816e+32             6.391753e-10\n",
      "97                          98  1.948701e+32             6.326531e-10\n",
      "98                          99  1.968585e+32             6.262626e-10\n",
      "99                         100  1.988470e+32             6.200000e-10\n",
      "\n",
      "[100 rows x 3 columns]\n"
     ]
    }
   ],
   "source": [
    "solar_mass_units = np.arange(1, 101)\n",
    "masses_kg = solar_mass_units * M_solar\n",
    "\n",
    "# Calculate the Hawking temperature for each mass\n",
    "hawking_temperatures = [pbhs.hawking_temp_from_solar_mass(m, M_solar) for m in masses_kg]\n",
    "\n",
    "# Create a DataFrame to display the results in a table\n",
    "df = pd.DataFrame({\n",
    "    'Mass (M_solar) from import': solar_mass_units,\n",
    "    'Mass (kg)': masses_kg,\n",
    "    'Hawking Temperature (K)': hawking_temperatures\n",
    "})\n",
    "\n",
    "# Display the table\n",
    "print(df)"
   ]
  },
  {
   "cell_type": "code",
   "execution_count": null,
   "id": "bd349e49-f80a-4560-ba22-cc0173a02810",
   "metadata": {},
   "outputs": [],
   "source": []
  }
 ],
 "metadata": {
  "kernelspec": {
   "display_name": "Python 3 (ipykernel)",
   "language": "python",
   "name": "python3"
  },
  "language_info": {
   "codemirror_mode": {
    "name": "ipython",
    "version": 3
   },
   "file_extension": ".py",
   "mimetype": "text/x-python",
   "name": "python",
   "nbconvert_exporter": "python",
   "pygments_lexer": "ipython3",
   "version": "3.12.1"
  }
 },
 "nbformat": 4,
 "nbformat_minor": 5
}
