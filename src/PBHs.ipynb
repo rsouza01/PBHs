{
 "cells": [
  {
   "cell_type": "code",
   "execution_count": 1,
   "id": "38d5e978-2912-43c4-93c3-5107ba16ae88",
   "metadata": {},
   "outputs": [],
   "source": [
    "import math\n",
    "import pandas as pd\n",
    "import numpy as np\n",
    "from pprint import pprint\n",
    "\n",
    "from scipy import constants\n",
    "from astropy import constants as astro_const\n",
    "from scipy.integrate import solve_ivp\n",
    "import matplotlib.pyplot as plt\n",
    "\n",
    "import pbhs as pbhs\n",
    "import black_holes as bh\n",
    "\n",
    "pd.set_option('display.width', 500)\n",
    "\n",
    "# solar_mass_grams = 1000 * astro_const.M_sun.value"
   ]
  },
  {
   "cell_type": "markdown",
   "id": "cb145549-3ada-4568-9136-7cc2d97ecdfe",
   "metadata": {},
   "source": [
    "# PBHs\n",
    "\n",
    "## Quantum evaporation and absorption of energy\n",
    "\n",
    "Black holes emit thermal radiation at a temperature inversely proportional to their mass. Numerically, this effect is given by\n",
    "\n",
    "\\begin{equation}\n",
    "T_{bh}=\\frac{\\hbar{c}^{3}}{8\\pi{k_{B}G}M}\\simeq \\frac{6.2\\times{10}^{-8}K}{(M/M_{\\odot})}\n",
    "\\end{equation}\n",
    "\n",
    "\n"
   ]
  },
  {
   "cell_type": "code",
   "execution_count": 2,
   "id": "e2d6849d-4628-435d-b54f-55d9acf039e5",
   "metadata": {},
   "outputs": [
    {
     "name": "stdout",
     "output_type": "stream",
     "text": [
      "   Mass (M_solar) from import     Mass (kg)  Hawking Temperature (K)\n",
      "0                           1  1.988410e+30             6.200000e-08\n",
      "1                           2  3.976820e+30             3.100000e-08\n",
      "2                           3  5.965230e+30             2.066667e-08\n",
      "3                           4  7.953639e+30             1.550000e-08\n"
     ]
    }
   ],
   "source": [
    "solar_mass_units = np.arange(1, 5)\n",
    "\n",
    "masses_kg = solar_mass_units * astro_const.M_sun.value\n",
    "\n",
    "# Calculate the Hawking temperature for each mass\n",
    "hawking_temperatures = [pbhs.hawking_temp_from_solar_mass(m, astro_const.M_sun.value) for m in masses_kg]\n",
    "\n",
    "# Create a DataFrame to display the results in a table\n",
    "df = pd.DataFrame({\n",
    "    'Mass (M_solar) from import': solar_mass_units,\n",
    "    'Mass (kg)': masses_kg,\n",
    "    'Hawking Temperature (K)': hawking_temperatures\n",
    "})\n",
    "\n",
    "# Display the table\n",
    "print(df)"
   ]
  },
  {
   "cell_type": "code",
   "execution_count": 3,
   "id": "bd349e49-f80a-4560-ba22-cc0173a02810",
   "metadata": {},
   "outputs": [
    {
     "name": "stdout",
     "output_type": "stream",
     "text": [
      "mass_c(2.2910545872296856e-08 K): 2.29e-08\n",
      "dmdt: 9.19e-11\n",
      " - first: -4.01e-44\n",
      " - second: 9.19e-11\n"
     ]
    }
   ],
   "source": [
    "temperature_critical_mass = pbhs.critical_mass_for_bg_temperature(2.7) / pbhs.solar_mass_grams\n",
    "dmdt, first, second, _ = pbhs.dm_dt(5 * pbhs.solar_mass_grams, 2.7)\n",
    "\n",
    "print(f\"mass_c({temperature_critical_mass} K): {temperature_critical_mass:.2e}\")\n",
    "print(f\"dmdt: {dmdt:.2e}\")\n",
    "print(f\" - first: {first:.2e}\")\n",
    "print(f\" - second: {second:.2e}\")\n"
   ]
  },
  {
   "cell_type": "code",
   "execution_count": 5,
   "id": "bbb6f277-d71b-4172-b333-d0ae55660e76",
   "metadata": {},
   "outputs": [
    {
     "name": "stdout",
     "output_type": "stream",
     "text": [
      "------------------------------------------------------------------------------------------------\n",
      "Planck mass (g): 2.18e-05 grams\n",
      "critical_mass(2.7 K): 4.56e+25 grams\n",
      "critical_mass(2.7 K): 2.29e-08 M_sun\n",
      "------------------------------------------------------------------------------------------------\n",
      "|   Mass (M_sun) |   Mass (g) |   Hawking temp. (K) |   First term (Hawking Evaporation) |   Second term () | Close?   |\n",
      "|---------------:|-----------:|--------------------:|-----------------------------------:|-----------------:|:---------|\n",
      "|       1.00e-20 |   1.99e+13 |            6.20e+12 |                          -1.00e-02 |         3.68e-52 | False    |\n",
      "|       2.68e-20 |   5.33e+13 |            2.31e+12 |                          -1.39e-03 |         2.65e-51 | False    |\n",
      "|       7.20e-20 |   1.43e+14 |            8.61e+11 |                          -1.93e-04 |         1.90e-50 | False    |\n",
      "|       1.93e-19 |   3.84e+14 |            3.21e+11 |                          -2.69e-05 |         1.37e-49 | False    |\n",
      "|       5.18e-19 |   1.03e+15 |            1.20e+11 |                          -3.73e-06 |         9.86e-49 | False    |\n",
      "|       1.39e-18 |   2.76e+15 |            4.46e+10 |                          -5.19e-07 |         7.10e-48 | False    |\n",
      "|       3.73e-18 |   7.41e+15 |            1.66e+10 |                          -7.21e-08 |         5.11e-47 | False    |\n",
      "|       1.00e-17 |   1.99e+16 |            6.20e+09 |                          -1.00e-08 |         3.68e-46 | False    |\n",
      "|       2.68e-17 |   5.33e+16 |            2.31e+09 |                          -1.39e-09 |         2.65e-45 | False    |\n",
      "|       7.20e-17 |   1.43e+17 |            8.61e+08 |                          -1.93e-10 |         1.90e-44 | False    |\n",
      "|       1.93e-16 |   3.84e+17 |            3.21e+08 |                          -2.69e-11 |         1.37e-43 | False    |\n",
      "|       5.18e-16 |   1.03e+18 |            1.20e+08 |                          -3.73e-12 |         9.86e-43 | False    |\n",
      "|       1.39e-15 |   2.76e+18 |            4.46e+07 |                          -5.19e-13 |         7.10e-42 | False    |\n",
      "|       3.73e-15 |   7.41e+18 |            1.66e+07 |                          -7.21e-14 |         5.11e-41 | False    |\n",
      "|       1.00e-14 |   1.99e+19 |            6.20e+06 |                          -1.00e-14 |         3.68e-40 | False    |\n",
      "|       2.68e-14 |   5.33e+19 |            2.31e+06 |                          -1.39e-15 |         2.65e-39 | False    |\n",
      "|       7.20e-14 |   1.43e+20 |            8.61e+05 |                          -1.93e-16 |         1.90e-38 | False    |\n",
      "|       1.93e-13 |   3.84e+20 |            3.21e+05 |                          -2.69e-17 |         1.37e-37 | False    |\n",
      "|       5.18e-13 |   1.03e+21 |            1.20e+05 |                          -3.73e-18 |         9.86e-37 | False    |\n",
      "|       1.39e-12 |   2.76e+21 |            4.46e+04 |                          -5.19e-19 |         7.10e-36 | False    |\n",
      "|       3.73e-12 |   7.41e+21 |            1.66e+04 |                          -7.21e-20 |         5.11e-35 | False    |\n",
      "|       1.00e-11 |   1.99e+22 |            6.20e+03 |                          -1.00e-20 |         3.68e-34 | False    |\n",
      "|       2.68e-11 |   5.33e+22 |            2.31e+03 |                          -1.39e-21 |         2.65e-33 | False    |\n",
      "|       7.20e-11 |   1.43e+23 |            8.61e+02 |                          -1.93e-22 |         1.90e-32 | False    |\n",
      "|       1.93e-10 |   3.84e+23 |            3.21e+02 |                          -2.69e-23 |         1.37e-31 | False    |\n",
      "|       5.18e-10 |   1.03e+24 |            1.20e+02 |                          -3.73e-24 |         9.86e-31 | False    |\n",
      "|       1.39e-09 |   2.76e+24 |            4.46e+01 |                          -5.19e-25 |         7.10e-30 | False    |\n",
      "|       3.73e-09 |   7.41e+24 |            1.66e+01 |                          -7.21e-26 |         5.11e-29 | False    |\n",
      "|       1.00e-08 |   1.99e+25 |            6.20e+00 |                          -1.00e-26 |         3.68e-28 | False    |\n",
      "|       2.68e-08 |   5.33e+25 |            2.31e+00 |                          -1.39e-27 |         2.65e-27 | True     |\n",
      "|       7.20e-08 |   1.43e+26 |            8.61e-01 |                          -1.93e-28 |         1.90e-26 | False    |\n",
      "|       1.93e-07 |   3.84e+26 |            3.21e-01 |                          -2.69e-29 |         1.37e-25 | False    |\n",
      "|       5.18e-07 |   1.03e+27 |            1.20e-01 |                          -3.73e-30 |         9.86e-25 | False    |\n",
      "|       1.39e-06 |   2.76e+27 |            4.46e-02 |                          -5.19e-31 |         7.10e-24 | False    |\n",
      "|       3.73e-06 |   7.41e+27 |            1.66e-02 |                          -7.21e-32 |         5.11e-23 | False    |\n",
      "|       1.00e-05 |   1.99e+28 |            6.20e-03 |                          -1.00e-32 |         3.68e-22 | False    |\n",
      "|       2.68e-05 |   5.33e+28 |            2.31e-03 |                          -1.39e-33 |         2.65e-21 | False    |\n",
      "|       7.20e-05 |   1.43e+29 |            8.61e-04 |                          -1.93e-34 |         1.90e-20 | False    |\n",
      "|       1.93e-04 |   3.84e+29 |            3.21e-04 |                          -2.69e-35 |         1.37e-19 | False    |\n",
      "|       5.18e-04 |   1.03e+30 |            1.20e-04 |                          -3.73e-36 |         9.86e-19 | False    |\n",
      "|       1.39e-03 |   2.76e+30 |            4.46e-05 |                          -5.19e-37 |         7.10e-18 | False    |\n",
      "|       3.73e-03 |   7.41e+30 |            1.66e-05 |                          -7.21e-38 |         5.11e-17 | False    |\n",
      "|       1.00e-02 |   1.99e+31 |            6.20e-06 |                          -1.00e-38 |         3.68e-16 | False    |\n",
      "|       2.68e-02 |   5.33e+31 |            2.31e-06 |                          -1.39e-39 |         2.65e-15 | False    |\n",
      "|       7.20e-02 |   1.43e+32 |            8.61e-07 |                          -1.93e-40 |         1.90e-14 | False    |\n",
      "|       1.93e-01 |   3.84e+32 |            3.21e-07 |                          -2.69e-41 |         1.37e-13 | False    |\n",
      "|       5.18e-01 |   1.03e+33 |            1.20e-07 |                          -3.73e-42 |         9.86e-13 | False    |\n",
      "|       1.39e+00 |   2.76e+33 |            4.46e-08 |                          -5.19e-43 |         7.10e-12 | False    |\n",
      "|       3.73e+00 |   7.41e+33 |            1.66e-08 |                          -7.21e-44 |         5.11e-11 | False    |\n",
      "|       1.00e+01 |   1.99e+34 |            6.20e-09 |                          -1.00e-44 |         3.68e-10 | False    |\n"
     ]
    }
   ],
   "source": [
    "background_temperature = 2.7\n",
    "# solar_mass_units = np.arange(1, 100)\n",
    "solar_mass_units = np.logspace(start=-20, stop=1, num=50, base=10)\n",
    "\n",
    "\n",
    "temperature_critical_mass = pbhs.critical_mass_for_bg_temperature(background_temperature)\n",
    "print(96*\"-\")\n",
    "print(f\"Planck mass (g): {pbhs.planck_mass_g:.2e} grams\")\n",
    "print(f\"critical_mass({background_temperature} K): {temperature_critical_mass:.2e} grams\")\n",
    "print(f\"critical_mass({background_temperature} K): {temperature_critical_mass/pbhs.solar_mass_grams:.2e} M_sun\")\n",
    "print(96*\"-\")\n",
    "\n",
    "masses_g = solar_mass_units * pbhs.solar_mass_grams\n",
    "# print(\"\\nMasses(g)\")\n",
    "# pprint(masses_g)\n",
    "\n",
    "hawking_temperatures = [pbhs.hawking_temp_from_solar_mass(m, pbhs.solar_mass_grams) for m in masses_g]\n",
    "# print(\"\\nHawking Temperatures(K)\")\n",
    "# pprint(hawking_temperatures)\n",
    "\n",
    "terms_tuple = [pbhs.dm_dt(m, background_temperature) for m in masses_g]\n",
    "# print(\"\\nterms_tuple\")\n",
    "# pprint(terms_tuple)\n",
    "\n",
    "dm_dt_column, first_term_col, second_term_col, error_diff = zip(*terms_tuple)\n",
    "# print(\"\\ndm_dt_column\")\n",
    "# pprint(dm_dt_column[0])\n",
    "\n",
    "# Create a DataFrame to display the results in a table\n",
    "df = pd.DataFrame({\n",
    "    'Mass (M_sun)': solar_mass_units,\n",
    "    'Mass (g)': masses_g,\n",
    "    'Hawking temp. (K)': hawking_temperatures,\n",
    "    # 'dM/dt': dm_dt_column,\n",
    "    'First term (Hawking Evaporation)': first_term_col,\n",
    "    'Second term ()': second_term_col,\n",
    "    'Close?': error_diff\n",
    "})\n",
    "\n",
    "output_string = df.to_string(\n",
    "    # Disable the row index for a cleaner table look\n",
    "    index=False,\n",
    "    # Apply a string format to center or left-align the text in each column.\n",
    "    # We use a formatter dictionary to force a display style.\n",
    "    # Note: Explicitly adding '|' is tricky, but setting a format helps.\n",
    ")\n",
    "\n",
    "# Display the table\n",
    "print(df.to_markdown(floatfmt='.2e', index=False))"
   ]
  },
  {
   "cell_type": "code",
   "execution_count": null,
   "id": "a44d8c49-b2ab-4fb3-8f5e-f1dc7e81af78",
   "metadata": {},
   "outputs": [],
   "source": []
  }
 ],
 "metadata": {
  "kernelspec": {
   "display_name": "Python 3 (ipykernel)",
   "language": "python",
   "name": "python3"
  },
  "language_info": {
   "codemirror_mode": {
    "name": "ipython",
    "version": 3
   },
   "file_extension": ".py",
   "mimetype": "text/x-python",
   "name": "python",
   "nbconvert_exporter": "python",
   "pygments_lexer": "ipython3",
   "version": "3.12.1"
  }
 },
 "nbformat": 4,
 "nbformat_minor": 5
}
