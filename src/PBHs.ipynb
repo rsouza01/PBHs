{
 "cells": [
  {
   "cell_type": "code",
   "execution_count": 1,
   "id": "38d5e978-2912-43c4-93c3-5107ba16ae88",
   "metadata": {},
   "outputs": [],
   "source": [
    "import math\n",
    "import pandas as pd\n",
    "import numpy as np\n",
    "import pbhs as pbhs\n",
    "\n",
    "from scipy import constants\n",
    "from astropy import constants as astro_const\n",
    "from scipy.integrate import solve_ivp\n",
    "import matplotlib.pyplot as plt\n",
    "\n",
    "\n",
    "\n",
    "import black_holes as bh\n",
    "\n",
    "solar_mass_grams = 1000 * astro_const.M_sun.value"
   ]
  },
  {
   "cell_type": "markdown",
   "id": "cb145549-3ada-4568-9136-7cc2d97ecdfe",
   "metadata": {},
   "source": [
    "# PBHs\n",
    "\n",
    "## Quantum evaporation and absorption of energy\n",
    "\n",
    "Black holes emit thermal radiation at a temperature inversely proportional to their mass. Numerically, this effect is given by\n",
    "\n",
    "\\begin{equation}\n",
    "T_{bh}=\\frac{\\hbar{c}^{3}}{8\\pi{k_{B}G}M}\\simeq \\frac{6.2\\times{10}^{-8}K}{(M/M_{\\odot})}\n",
    "\\end{equation}\n",
    "\n",
    "\n"
   ]
  },
  {
   "cell_type": "code",
   "execution_count": 2,
   "id": "e2d6849d-4628-435d-b54f-55d9acf039e5",
   "metadata": {},
   "outputs": [
    {
     "name": "stdout",
     "output_type": "stream",
     "text": [
      "    Mass (M_solar) from import     Mass (kg)  Hawking Temperature (K)\n",
      "0                            1  1.988410e+30             6.200000e-08\n",
      "1                            2  3.976820e+30             3.100000e-08\n",
      "2                            3  5.965230e+30             2.066667e-08\n",
      "3                            4  7.953639e+30             1.550000e-08\n",
      "4                            5  9.942049e+30             1.240000e-08\n",
      "..                         ...           ...                      ...\n",
      "95                          96  1.908873e+32             6.458333e-10\n",
      "96                          97  1.928758e+32             6.391753e-10\n",
      "97                          98  1.948642e+32             6.326531e-10\n",
      "98                          99  1.968526e+32             6.262626e-10\n",
      "99                         100  1.988410e+32             6.200000e-10\n",
      "\n",
      "[100 rows x 3 columns]\n"
     ]
    }
   ],
   "source": [
    "solar_mass_units = np.arange(1, 101)\n",
    "masses_kg = solar_mass_units * astro_const.M_sun.value\n",
    "\n",
    "# Calculate the Hawking temperature for each mass\n",
    "hawking_temperatures = [pbhs.hawking_temp_from_solar_mass(m, astro_const.M_sun.value) for m in masses_kg]\n",
    "\n",
    "# Create a DataFrame to display the results in a table\n",
    "df = pd.DataFrame({\n",
    "    'Mass (M_solar) from import': solar_mass_units,\n",
    "    'Mass (kg)': masses_kg,\n",
    "    'Hawking Temperature (K)': hawking_temperatures\n",
    "})\n",
    "\n",
    "# Display the table\n",
    "print(df)"
   ]
  },
  {
   "cell_type": "code",
   "execution_count": 3,
   "id": "bd349e49-f80a-4560-ba22-cc0173a02810",
   "metadata": {},
   "outputs": [
    {
     "name": "stdout",
     "output_type": "stream",
     "text": [
      "mass_c(2.2910545872296856e-08 K): 2.29e-08\n",
      "dmdt: 9.19e-11\n",
      " - first: -4.01e-44\n",
      " - second: 9.19e-11\n"
     ]
    }
   ],
   "source": [
    "temperature_critical_mass = pbhs.temperature_critical_mass(2.7) / solar_mass_grams\n",
    "dmdt, first, second = pbhs.dm_dt(5 * solar_mass_grams, 2.7)\n",
    "\n",
    "print(f\"mass_c({temperature_critical_mass} K): {temperature_critical_mass:.2e}\")\n",
    "print(f\"dmdt: {dmdt:.2e}\")\n",
    "print(f\" - first: {first:.2e}\")\n",
    "print(f\" - second: {second:.2e}\")\n"
   ]
  },
  {
   "cell_type": "code",
   "execution_count": 10,
   "id": "bbb6f277-d71b-4172-b333-d0ae55660e76",
   "metadata": {},
   "outputs": [
    {
     "name": "stdout",
     "output_type": "stream",
     "text": [
      "temperature_critical_mass(2.7 K): 2.29e-08 grams\n",
      "    Mass (M_solar) from import     Mass (kg)  Hawking Temperature (K)\n",
      "0                            1  1.988410e+30             6.200000e-08\n",
      "1                            2  3.976820e+30             3.100000e-08\n",
      "2                            3  5.965230e+30             2.066667e-08\n",
      "3                            4  7.953639e+30             1.550000e-08\n",
      "4                            5  9.942049e+30             1.240000e-08\n",
      "..                         ...           ...                      ...\n",
      "95                          96  1.908873e+32             6.458333e-10\n",
      "96                          97  1.928758e+32             6.391753e-10\n",
      "97                          98  1.948642e+32             6.326531e-10\n",
      "98                          99  1.968526e+32             6.262626e-10\n",
      "99                         100  1.988410e+32             6.200000e-10\n",
      "\n",
      "[100 rows x 3 columns]\n"
     ]
    }
   ],
   "source": [
    "background_temperature = 2.7\n",
    "solar_mass_units = np.arange(1, 101)\n",
    "masses_g = solar_mass_units * solar_mass_grams\n",
    "\n",
    "temperature_critical_mass = pbhs.temperature_critical_mass(background_temperature) / solar_mass_grams\n",
    "\n",
    "print(f\"temperature_critical_mass({background_temperature} K): {temperature_critical_mass:.2e} grams\")\n",
    "\n",
    "# Calculate the Hawking temperature for each mass\n",
    "terms_tuple = [pbhs.dm_dt(masses_g, background_temperature) for m in masses_g]\n",
    "\n",
    "# Create a DataFrame to display the results in a table\n",
    "df = pd.DataFrame({\n",
    "    'Mass (M_solar)': solar_mass_units,\n",
    "    'Mass (kg)': masses_g,\n",
    "    'Hawking Temperature (K)': hawking_temperatures\n",
    "})\n",
    "\n",
    "# Display the table\n",
    "print(df)"
   ]
  }
 ],
 "metadata": {
  "kernelspec": {
   "display_name": "Python 3 (ipykernel)",
   "language": "python",
   "name": "python3"
  },
  "language_info": {
   "codemirror_mode": {
    "name": "ipython",
    "version": 3
   },
   "file_extension": ".py",
   "mimetype": "text/x-python",
   "name": "python",
   "nbconvert_exporter": "python",
   "pygments_lexer": "ipython3",
   "version": "3.12.1"
  }
 },
 "nbformat": 4,
 "nbformat_minor": 5
}
