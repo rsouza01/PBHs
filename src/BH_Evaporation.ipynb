{
 "cells": [
  {
   "cell_type": "code",
   "execution_count": 6,
   "id": "b5661cad-0390-4838-a522-8cd2518be0ee",
   "metadata": {},
   "outputs": [],
   "source": [
    "import math\n",
    "import pandas as pd\n",
    "import numpy as np\n",
    "from scipy import constants\n",
    "from astropy import constants as astro_const\n",
    "from scipy.integrate import solve_ivp\n",
    "import matplotlib.pyplot as plt\n",
    "\n",
    "\n",
    "\n",
    "import black_holes as bh"
   ]
  },
  {
   "cell_type": "code",
   "execution_count": 7,
   "id": "a238b440-8823-41f7-a6cb-dfa5f063dac3",
   "metadata": {},
   "outputs": [],
   "source": [
    "pd.set_option('display.float_format', '{:.2e}'.format)"
   ]
  },
  {
   "cell_type": "markdown",
   "id": "13a5fb50-6111-4aa5-b7a8-c4ace374f6ea",
   "metadata": {},
   "source": [
    "# Step 1: Define the Black Hole's Temperature\n",
    "\n",
    "First, you need the formula for the **Hawking temperature ($T$)**, which is inversely proportional to the black hole's mass ($M$). For a non-rotating, uncharged Schwarzschild black hole, the equation is:\n",
    "\n",
    "$$T = \\frac{\\hbar c^3}{8\\pi G M k_B}$$\n",
    "\n",
    "Where:\n",
    "* $\\hbar$ is the reduced Planck constant\n",
    "* $c$ is the speed of light\n",
    "* $G$ is the gravitational constant\n",
    "* $k_B$ is the Boltzmann constant\n"
   ]
  },
  {
   "cell_type": "code",
   "execution_count": 8,
   "id": "85715829-1c6b-4eec-8b61-203f89b5fda6",
   "metadata": {},
   "outputs": [
    {
     "name": "stdout",
     "output_type": "stream",
     "text": [
      "2.0448344509900284e-08\n"
     ]
    }
   ],
   "source": [
    "print(bh.hawking_temperature(6e30))"
   ]
  },
  {
   "cell_type": "markdown",
   "id": "d1055ae4-d681-4d44-bba2-997dc8aa2717",
   "metadata": {},
   "source": [
    "# Step 2: Calculate the Mass Loss Rate\n",
    "\n",
    "The black hole's mass loss rate is determined by the power it radiates as Hawking radiation. This power can be calculated using the **Stefan-Boltzmann law**, which relates an object's temperature to the power it emits. The power ($P$) is the energy radiated per unit time, and by $E=mc^2$, this corresponds to a mass loss rate ($dM/dt$):\n",
    "\n",
    "$$\\frac{dM}{dt} = - \\frac{P}{c^2} = - \\frac{A \\sigma T^4}{c^2}$$\n",
    "\n",
    "Where:\n",
    "* $A$ is the surface area of the event horizon, $A = 4\\pi r_s^2 = 4\\pi (2GM/c^2)^2 = 16\\pi G^2M^2/c^4$\n",
    "* $\\sigma$ is the Stefan-Boltzmann constant\n",
    "* $T$ is the Hawking temperature calculated in Step 1\n",
    "\n",
    "By substituting the expression for $T$ and $A$ into the mass loss rate equation, you get a final formula that relates the mass loss rate to the black hole's current mass:\n",
    "\n",
    "$$\\frac{dM}{dt} = - \\frac{\\hbar c^4}{15360 \\pi G^2 M^2}$$\n",
    "\n",
    "Notice that the mass loss rate is **inversely proportional to the square of the mass**. This is the key insight: as a black hole loses mass, it gets hotter and evaporates at a faster and faster rate. \n"
   ]
  },
  {
   "cell_type": "markdown",
   "id": "2604cb91-a0b7-4e02-a418-49bd079424a7",
   "metadata": {},
   "source": [
    "# Step 3: Simulate the Evaporation\n",
    "\n",
    "To simulate the evaporation from an initial mass ($M_i$) to zero, you must solve the differential equation for the mass loss rate. Since the rate of change depends on the current mass, a simple numerical integration is the most common approach.\n",
    "\n",
    "Starting with an initial mass $M_i$ at $t=0$, you can use a small time step $\\Delta t$ to update the mass:\n",
    "\n",
    "$$M(t+\\Delta t) = M(t) + \\frac{dM}{dt} \\times \\Delta t$$\n",
    "\n",
    "You repeat this process for many small steps. At each step, you:\n",
    "1.  Calculate the current temperature using the current mass.\n",
    "2.  Calculate the current mass loss rate.\n",
    "3.  Update the mass for the next time step.\n",
    "\n",
    "This iterative process will show the black hole's mass and temperature evolve over time. The mass will decrease, slowly at first, and then accelerate toward zero, with the temperature doing the exact opposite.\n",
    "\n",
    "The total time for a black hole to evaporate completely, from an initial mass $M_i$, is given by integrating the mass loss rate equation:\n",
    "\n",
    "$$\\tau \\approx \\left(\\frac{M_i}{M_{\\odot}}\\right)^3 \\times 10^{66} \\text{ years}$$\n",
    "\n",
    "This formula shows that a solar-mass black hole will take an incomprehensibly long time to evaporate, far longer than the current age of the universe. Only much smaller, \"primordial\" black holes could have evaporated by now.\n"
   ]
  },
  {
   "cell_type": "code",
   "execution_count": 9,
   "id": "206189f0-b92d-460b-8bd0-4ce28aa38c63",
   "metadata": {},
   "outputs": [],
   "source": [
    "masses_kg = [\n",
    "    1e15, # PBH\n",
    "    10 * astro_const.M_sun.value, # Stellar BH\n",
    "    1e9 * astro_const.M_sun.value, # Supermassive BH\n",
    "]"
   ]
  },
  {
   "cell_type": "code",
   "execution_count": null,
   "id": "c3acf9b4-da00-4239-9006-fe19fac8cdca",
   "metadata": {},
   "outputs": [
    {
     "name": "stdout",
     "output_type": "stream",
     "text": [
      "   Mass (kg)  Hawking Temperature (K)\n",
      "0   1.00e+15                 1.23e+08\n",
      "1   1.99e+31                 6.17e-09\n",
      "2   1.99e+39                 6.17e-17\n"
     ]
    }
   ],
   "source": [
    "# Calculate the Hawking temperature for each mass\n",
    "hawking_temperatures = [bh.hawking_temperature(m) for m in masses_kg]\n",
    "\n",
    "# Create a DataFrame to display the results in a table\n",
    "df = pd.DataFrame({\n",
    "    'Mass (kg)': masses_kg,\n",
    "    'Hawking Temperature (K)': hawking_temperatures\n",
    "})\n",
    "\n",
    "# Display the table\n",
    "print(df)\n",
    "\n",
    "\n",
    "m0 = masses_kg[0]\n",
    "t_span = [0, 1e15]  # Time interval [start, end]\n",
    "\n",
    "\n",
    "time_step_for_output = 100\n",
    "t_eval_points = np.arange(t_span[0], t_span[1] + time_step_for_output, time_step_for_output)\n",
    "\n",
    "solution = solve_ivp(\n",
    "    fun=bh.dM_dt, \n",
    "    t_span=t_span, \n",
    "    t_eval=t_eval_points, \n",
    "    y0=[m0], \n",
    "    dense_output=True, # Allows for continuous solution evaluation\n",
    " )\n",
    "\n",
    "\n",
    "# Create a smooth time array for plotting\n",
    "t_plot = np.linspace(t_span[0], t_span[1], 1000)\n",
    "y_solve_ivp = solution.sol(t_plot)[0] # Extract the solution values\n",
    "\n",
    "plt.figure(figsize=(8, 4))\n",
    "plt.plot(t_plot, y_solve_ivp, label='solve_ivp (Runge-Kutta)', color='red')\n",
    "plt.title(r'Accurate Numerical Solution of $\\frac{dM}{dt} = - \\frac{\\hbar c^4}{15360 \\pi G^2 M^2}$')\n",
    "plt.xlabel('Time (t)')\n",
    "plt.ylabel('M(t)')\n",
    "plt.legend()\n",
    "plt.grid(True)\n",
    "plt.show()\n"
   ]
  }
 ],
 "metadata": {
  "kernelspec": {
   "display_name": "venv (3.13.5)",
   "language": "python",
   "name": "python3"
  },
  "language_info": {
   "codemirror_mode": {
    "name": "ipython",
    "version": 3
   },
   "file_extension": ".py",
   "mimetype": "text/x-python",
   "name": "python",
   "nbconvert_exporter": "python",
   "pygments_lexer": "ipython3",
   "version": "3.13.5"
  }
 },
 "nbformat": 4,
 "nbformat_minor": 5
}
